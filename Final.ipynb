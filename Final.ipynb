{
 "cells": [
  {
   "cell_type": "markdown",
   "id": "bd54e82d-24b7-475d-9ab6-8a62775f33ab",
   "metadata": {},
   "source": [
    "# Final Exam \n",
    "## Working with Auto Data (Horsepower, MPG, Etc.)"
   ]
  },
  {
   "cell_type": "code",
   "execution_count": 88,
   "id": "a3091065-51a2-410f-ac79-9d9f1b7194ba",
   "metadata": {},
   "outputs": [
    {
     "name": "stdout",
     "output_type": "stream",
     "text": [
      "    mpg  cylinders  displacement  horsepower  weight  acceleration  \\\n",
      "0  18.0          8         307.0       130.0    3504          12.0   \n",
      "1  15.0          8         350.0       165.0    3693          11.5   \n",
      "2  18.0          8         318.0       150.0    3436          11.0   \n",
      "3  16.0          8         304.0       150.0    3433          12.0   \n",
      "4  17.0          8         302.0       140.0    3449          10.5   \n",
      "\n",
      "   model year  origin                   car name  \n",
      "0          70       1  chevrolet chevelle malibu  \n",
      "1          70       1          buick skylark 320  \n",
      "2          70       1         plymouth satellite  \n",
      "3          70       1              amc rebel sst  \n",
      "4          70       1                ford torino  \n"
     ]
    }
   ],
   "source": [
    "import pandas as pd\n",
    "\n",
    "auto = pd.read_csv(\"auto-mpg.csv\", sep=(\",\"))\n",
    "print(auto.head())"
   ]
  },
  {
   "cell_type": "markdown",
   "id": "0a7ea2ec-572e-411b-a17c-26319390add8",
   "metadata": {},
   "source": [
    "### Train/Test Data Split"
   ]
  },
  {
   "cell_type": "code",
   "execution_count": 89,
   "id": "02c07881-964a-4e38-a465-e7887ae8602e",
   "metadata": {},
   "outputs": [
    {
     "name": "stdout",
     "output_type": "stream",
     "text": [
      "Train size:  318 Test size:  80\n"
     ]
    }
   ],
   "source": [
    "from sklearn.model_selection import train_test_split\n",
    "\n",
    "train_set, test_set = train_test_split(auto, \n",
    "                        test_size=0.2, random_state=123)\n",
    "print('Train size: ', len(train_set), 'Test size: ', len(test_set))"
   ]
  },
  {
   "cell_type": "code",
   "execution_count": 90,
   "id": "ea643b15-2e17-4bc2-8ebf-65156e44c442",
   "metadata": {},
   "outputs": [],
   "source": [
    "auto['horsepower'].replace(['?'],['0'],inplace=True)"
   ]
  },
  {
   "cell_type": "code",
   "execution_count": 91,
   "id": "1802ae91-95a7-4bc9-9fb5-fa9c0df22363",
   "metadata": {},
   "outputs": [],
   "source": [
    "auto['horsepower'] = auto['horsepower'].astype(float)"
   ]
  },
  {
   "cell_type": "code",
   "execution_count": 112,
   "id": "6b7dd35d-8fc3-4f07-bf88-965b6154c87d",
   "metadata": {},
   "outputs": [
    {
     "name": "stdout",
     "output_type": "stream",
     "text": [
      "95.0\n"
     ]
    }
   ],
   "source": [
    "print(auto['horsepower'].median())        \n",
    "        "
   ]
  },
  {
   "cell_type": "code",
   "execution_count": 104,
   "id": "65afddc5-80f2-4a98-8e52-b49aff6f3d3e",
   "metadata": {},
   "outputs": [],
   "source": [
    " auto['horsepower'] = auto['horsepower'].replace(102.894472, auto['horsepower'].median())"
   ]
  },
  {
   "cell_type": "markdown",
   "id": "6698c521-1810-4b4e-8d5b-1755232ec8d8",
   "metadata": {},
   "source": [
    "### Linear Regression Model"
   ]
  },
  {
   "cell_type": "code",
   "execution_count": 113,
   "id": "649b0877-acc9-4f9d-999e-ac14c13bc976",
   "metadata": {},
   "outputs": [
    {
     "name": "stdout",
     "output_type": "stream",
     "text": [
      "Results for linear regression on training data\n",
      "Input: horsepower, weight\n",
      " Default settings\n",
      "Internal parameters:\n",
      " Bias is  45.87411050864164\n",
      " Coefficients [-0.04074079 -0.00605784]\n",
      " Score 0.7055752526651475\n",
      "MAE is  3.241837988715952\n",
      "RMSE is  4.256668029366336\n",
      "MSE is  18.119222712229487\n",
      "R^2  0.7055752526651475\n",
      "\n",
      "Results for linear regression on test data\n",
      "Input: horsepower, weight\n",
      "MAE is  3.3556244275847575\n",
      "RMSE is  4.225971657558403\n",
      "MSE is  17.858836450486915\n",
      "R^2  0.6938079256709418\n"
     ]
    }
   ],
   "source": [
    "import numpy as np\n",
    "from sklearn.linear_model import LinearRegression\n",
    "from sklearn.metrics import mean_absolute_error\n",
    "from sklearn.metrics import mean_squared_error\n",
    "from sklearn.metrics import r2_score\n",
    "X = train_set[['horsepower', 'weight']]\n",
    "y = train_set['mpg']\n",
    "X_test = test_set[['horsepower', 'weight']]\n",
    "y_test = test_set['mpg']\n",
    "\n",
    "lr_model = LinearRegression()\n",
    "lr_model.fit(X,y)\n",
    "\n",
    "y_pred = lr_model.predict(X)\n",
    "print('Results for linear regression on training data')\n",
    "print('Input: horsepower, weight')\n",
    "print(' Default settings')\n",
    "print('Internal parameters:')\n",
    "print(' Bias is ', lr_model.intercept_)\n",
    "print(' Coefficients', lr_model.coef_)\n",
    "print(' Score', lr_model.score(X,y))\n",
    "print('MAE is ', mean_absolute_error(y, y_pred))\n",
    "print('RMSE is ', np.sqrt(mean_squared_error(y, y_pred)))\n",
    "print('MSE is ', mean_squared_error(y, y_pred))\n",
    "print('R^2 ', r2_score(y,y_pred))\n",
    "\n",
    "y_test_pred = lr_model.predict(X_test)\n",
    "print()\n",
    "print('Results for linear regression on test data')\n",
    "print('Input: horsepower, weight')\n",
    "print('MAE is ', mean_absolute_error(y_test, y_test_pred))\n",
    "print('RMSE is ', np.sqrt(mean_squared_error(y_test, \n",
    "y_test_pred)))\n",
    "print('MSE is ', mean_squared_error(y_test, y_test_pred))\n",
    "print('R^2 ', r2_score(y_test,y_test_pred))\n"
   ]
  },
  {
   "cell_type": "markdown",
   "id": "a582f770-5b37-45f2-bff7-0e9b871cc37c",
   "metadata": {},
   "source": [
    "### Pipelined Model Pipeline #1"
   ]
  },
  {
   "cell_type": "code",
   "execution_count": 116,
   "id": "19a8b45c-2c8d-4d49-8390-43554740c345",
   "metadata": {},
   "outputs": [
    {
     "name": "stdout",
     "output_type": "stream",
     "text": [
      "Results for pipeline linear regression on training data\n",
      "   Bias is  [45.87411051]\n",
      "   Score 0.7055752526651475\n",
      "MAE is   3.2418379887159525\n",
      "RMSE is  4.256668029366336\n",
      "MSE is  18.11922271222949\n",
      "R^2     0.7055752526651475\n",
      "\n",
      "Results for pipeline linear regression on test data\n",
      "MAE is   3.3556244275847584\n",
      "RMSE is  4.225971657558404\n",
      "MSE is  17.858836450486923\n",
      "R^2     0.6938079256709417\n"
     ]
    },
    {
     "name": "stderr",
     "output_type": "stream",
     "text": [
      "C:\\Users\\chris\\miniconda3\\lib\\site-packages\\sklearn\\base.py:450: UserWarning: X does not have valid feature names, but SimpleImputer was fitted with feature names\n",
      "  warnings.warn(\n"
     ]
    }
   ],
   "source": [
    "from sklearn.linear_model import LinearRegression\n",
    "from sklearn.metrics import mean_absolute_error\n",
    "from sklearn.metrics import mean_squared_error\n",
    "from sklearn.metrics import r2_score\n",
    "from sklearn.pipeline import Pipeline\n",
    "from sklearn.impute import SimpleImputer\n",
    "from sklearn.preprocessing import PolynomialFeatures\n",
    "from sklearn.preprocessing import StandardScaler\n",
    "\n",
    "X = train_set[['horsepower', 'weight']]\n",
    "y = train_set['mpg']\n",
    "\n",
    "X_test = test_set[['horsepower', 'weight']]\n",
    "y_test = test_set['mpg']\n",
    "\n",
    "imp_median = SimpleImputer(missing_values=np.nan, strategy='median')\n",
    "scale = StandardScaler()\n",
    "lrpipe_model = LinearRegression()\n",
    "\n",
    "stages = [('imp_median', imp_median),\n",
    " ('scale', scale),\n",
    " ('lrpipe_model', lrpipe_model),\n",
    " ]\n",
    "pipe_model = Pipeline(stages)\n",
    "\n",
    "pipe_model.fit(X,y)\n",
    "\n",
    "y_pred = pipe_model.predict(X)\n",
    "print('Results for pipeline linear regression on training data')\n",
    "#print('  Default settings')\n",
    "#print('Internal parameters:')\n",
    "print('   Bias is ', pipe_model.predict([[0, 0]]))\n",
    "#print('   Coefficients', pipe_model.coef_)\n",
    "print('   Score', pipe_model.score(X,y))\n",
    "\n",
    "print('MAE is  ', mean_absolute_error(y, y_pred))\n",
    "print('RMSE is ', np.sqrt(mean_squared_error(y, y_pred)))\n",
    "print('MSE is ', mean_squared_error(y, y_pred))\n",
    "print('R^2    ', r2_score(y,y_pred))\n",
    "\n",
    "y_test_pred = pipe_model.predict(X_test)\n",
    "print()\n",
    "print('Results for pipeline linear regression on test data')\n",
    "\n",
    "print('MAE is  ', mean_absolute_error(y_test, y_test_pred))\n",
    "print('RMSE is ', np.sqrt(mean_squared_error(y_test, y_test_pred)))\n",
    "print('MSE is ', mean_squared_error(y_test, y_test_pred))\n",
    "print('R^2    ', r2_score(y_test,y_test_pred))\n"
   ]
  },
  {
   "cell_type": "markdown",
   "id": "794c9804-a477-418d-878c-e23db5ff8b8c",
   "metadata": {},
   "source": [
    "### Pipeline #2"
   ]
  },
  {
   "cell_type": "code",
   "execution_count": 97,
   "id": "2e74ff62-2782-492f-96a7-e0d69af4d3d1",
   "metadata": {},
   "outputs": [
    {
     "name": "stdout",
     "output_type": "stream",
     "text": [
      "Results for pipeline linear regression on training data\n",
      "   Bias is  [52.16797207]\n",
      "   Score 0.7641271307122832\n",
      "MAE is   2.881941587573485\n",
      "RMSE is  3.8099705709124447\n",
      "MSE is  14.515875751218902\n",
      "R^2     0.7641271307122832\n",
      "\n",
      "Results for pipeline linear regression on test data\n",
      "MAE is   3.7235264163884794\n",
      "RMSE is  7.1845967713840775\n",
      "MSE is  51.618430767382506\n",
      "R^2     0.11499528907748058\n"
     ]
    },
    {
     "name": "stderr",
     "output_type": "stream",
     "text": [
      "C:\\Users\\chris\\miniconda3\\lib\\site-packages\\sklearn\\base.py:450: UserWarning: X does not have valid feature names, but SimpleImputer was fitted with feature names\n",
      "  warnings.warn(\n"
     ]
    }
   ],
   "source": [
    "from sklearn.linear_model import LinearRegression\n",
    "from sklearn.metrics import mean_absolute_error\n",
    "from sklearn.metrics import mean_squared_error\n",
    "from sklearn.metrics import r2_score\n",
    "from sklearn.pipeline import Pipeline\n",
    "from sklearn.impute import SimpleImputer\n",
    "from sklearn.preprocessing import PolynomialFeatures\n",
    "from sklearn.preprocessing import StandardScaler\n",
    "\n",
    "X = train_set[['horsepower', 'weight']]\n",
    "y = train_set['mpg']\n",
    "\n",
    "X_test = test_set[['horsepower', 'weight']]\n",
    "y_test = test_set['mpg']\n",
    "\n",
    "imp_median = SimpleImputer(missing_values=np.nan, strategy='median')\n",
    "poly3 = PolynomialFeatures(degree=3, include_bias=False)\n",
    "scale = StandardScaler()\n",
    "lr_model = LinearRegression()\n",
    "\n",
    "stages = [('imp_median', imp_median),\n",
    " ('poly3', poly3),\n",
    " ('scale', scale),\n",
    " ('lr_model', lr_model),\n",
    " ]\n",
    "pipe_model = Pipeline(stages)\n",
    "\n",
    "pipe_model.fit(X,y)\n",
    "\n",
    "y_pred = pipe_model.predict(X)\n",
    "print('Results for pipeline linear regression on training data')\n",
    "#print('  Default settings')\n",
    "#print('Internal parameters:')\n",
    "print('   Bias is ', pipe_model.predict([[0, 0]]))\n",
    "#print('   Coefficients', pipe_model.coef_)\n",
    "print('   Score', pipe_model.score(X,y))\n",
    "\n",
    "print('MAE is  ', mean_absolute_error(y, y_pred))\n",
    "print('RMSE is ', np.sqrt(mean_squared_error(y, y_pred)))\n",
    "print('MSE is ', mean_squared_error(y, y_pred))\n",
    "print('R^2    ', r2_score(y,y_pred))\n",
    "\n",
    "y_test_pred = pipe_model.predict(X_test)\n",
    "print()\n",
    "print('Results for pipeline linear regression on test data')\n",
    "\n",
    "print('MAE is  ', mean_absolute_error(y_test, y_test_pred))\n",
    "print('RMSE is ', np.sqrt(mean_squared_error(y_test, y_test_pred)))\n",
    "print('MSE is ', mean_squared_error(y_test, y_test_pred))\n",
    "print('R^2    ', r2_score(y_test,y_test_pred))\n"
   ]
  },
  {
   "cell_type": "code",
   "execution_count": null,
   "id": "7b991166-51eb-4e9c-b404-34e0b3f46a09",
   "metadata": {},
   "outputs": [],
   "source": []
  }
 ],
 "metadata": {
  "kernelspec": {
   "display_name": "Python 3 (ipykernel)",
   "language": "python",
   "name": "python3"
  },
  "language_info": {
   "codemirror_mode": {
    "name": "ipython",
    "version": 3
   },
   "file_extension": ".py",
   "mimetype": "text/x-python",
   "name": "python",
   "nbconvert_exporter": "python",
   "pygments_lexer": "ipython3",
   "version": "3.9.12"
  }
 },
 "nbformat": 4,
 "nbformat_minor": 5
}
